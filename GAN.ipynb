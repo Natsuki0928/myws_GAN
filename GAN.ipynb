{
 "cells": [
  {
   "cell_type": "code",
   "execution_count": null,
   "metadata": {},
   "outputs": [],
   "source": []
  },
  {
   "cell_type": "code",
   "execution_count": 24,
   "metadata": {},
   "outputs": [
    {
     "name": "stdout",
     "output_type": "stream",
     "text": [
      "python: can't open file 'imgscraping.py': [Errno 2] No such file or directory\n"
     ]
    }
   ],
   "source": [
    "!python imgscraping.py -t 欅坂46 顔 -n 100"
   ]
  },
  {
   "cell_type": "markdown",
   "metadata": {},
   "source": [
    "# 顔切りだし"
   ]
  },
  {
   "cell_type": "code",
   "execution_count": 28,
   "metadata": {},
   "outputs": [],
   "source": [
    "import cv2\n",
    "import glob\n",
    " \n",
    "HAAR_FILE = \"./haarcascades/haarcascade_frontalface_alt.xml\"\n",
    "cascade = cv2.CascadeClassifier(HAAR_FILE)\n",
    " \n",
    "load_img_list = []\n",
    "face_cut = []\n",
    "count= 0\n",
    "#出力画像のディレクトリパス\n",
    "output_path = \"./data/output/\"\n",
    "#加工元の画像ディレクトリパス\n",
    "img_list = glob.glob(\"./data/misao-ueda-01.jpg\")"
   ]
  },
  {
   "cell_type": "code",
   "execution_count": 29,
   "metadata": {},
   "outputs": [],
   "source": [
    "for img in img_list:\n",
    "    load_img_list.append(cv2.imread(img))"
   ]
  },
  {
   "cell_type": "code",
   "execution_count": 30,
   "metadata": {},
   "outputs": [
    {
     "name": "stdout",
     "output_type": "stream",
     "text": [
      "[[249  84 192 192]]\n"
     ]
    }
   ],
   "source": [
    "for load_img in load_img_list:\n",
    "    face_rects = cascade.detectMultiScale(load_img)\n",
    "    print(face_rects)\n",
    "    if(len(face_rects) !=0):\n",
    "        for face_rect in face_rects:\n",
    "            x = face_rect[0]\n",
    "            y = face_rect[1]\n",
    "            w = face_rect[2]\n",
    "            h = face_rect[3]\n",
    "            face_cut = load_img[y:y + h, x:x + w]\n",
    "            face_cut = cv2.resize(face_cut, dsize =(256, 256))\n",
    "            img_name = output_path + \"img_\" + str(count) + \".jpg\"\n",
    "            cv2.imwrite(img_name, face_cut)\n",
    "            count += 1\n",
    "    else:pass"
   ]
  },
  {
   "cell_type": "code",
   "execution_count": null,
   "metadata": {},
   "outputs": [],
   "source": []
  },
  {
   "cell_type": "code",
   "execution_count": null,
   "metadata": {},
   "outputs": [],
   "source": []
  }
 ],
 "metadata": {
  "kernelspec": {
   "display_name": "Python 3",
   "language": "python",
   "name": "python3"
  },
  "language_info": {
   "codemirror_mode": {
    "name": "ipython",
    "version": 3
   },
   "file_extension": ".py",
   "mimetype": "text/x-python",
   "name": "python",
   "nbconvert_exporter": "python",
   "pygments_lexer": "ipython3",
   "version": "3.6.10"
  }
 },
 "nbformat": 4,
 "nbformat_minor": 4
}
